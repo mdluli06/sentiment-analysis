{
 "cells": [
  {
   "cell_type": "markdown",
   "metadata": {},
   "source": [
    "# SENTIMENT ANALYSIS\n",
    "## AMANDA MDLULI \n",

    "What happens in Sentiment Analysis?\n",
    "CFGs can define patterns of sentiment expressions in natural language, aiding in the identification of sentiment in texts. NLP techniques are then applied to analyze the sentiment expressed in the text, while NLG can be used to generate summaries or reports of sentiment analysis results.\n"
   ]
  },
  {
   "cell_type": "code",
   "execution_count": 1,
   "metadata": {
    "execution": {
     "iopub.execute_input": "2024-05-05T12:45:43.328900Z",
     "iopub.status.busy": "2024-05-05T12:45:43.327938Z",
     "iopub.status.idle": "2024-05-05T12:45:51.399364Z",
     "shell.execute_reply": "2024-05-05T12:45:51.398509Z",
     "shell.execute_reply.started": "2024-05-05T12:45:43.328858Z"
    }
   },
   "outputs": [
    {
     "name": "stderr",
     "output_type": "stream",
     "text": [
      "C:\\Users\\Admin\\anaconda3\\lib\\site-packages\\scipy\\__init__.py:146: UserWarning: A NumPy version >=1.16.5 and <1.23.0 is required for this version of SciPy (detected version 1.24.3\n",
      "  warnings.warn(f\"A NumPy version >={np_minversion} and <{np_maxversion}\"\n",
      "[nltk_data] Downloading package vader_lexicon to\n",
      "[nltk_data]     C:\\Users\\Admin\\AppData\\Roaming\\nltk_data...\n",
      "[nltk_data]   Package vader_lexicon is already up-to-date!\n",
      "[nltk_data] Downloading package punkt to\n",
      "[nltk_data]     C:\\Users\\Admin\\AppData\\Roaming\\nltk_data...\n",
      "[nltk_data]   Package punkt is already up-to-date!\n"
     ]
    },
    {
     "data": {
      "text/plain": [
       "True"
      ]
     },
     "execution_count": 1,
     "metadata": {},
     "output_type": "execute_result"
    }
   ],
   "source": [
    "import numpy as np\n",
    "import pandas as pd\n",
    "import seaborn as sns\n",
    "import matplotlib.pyplot as plt\n",
    "import nltk\n",
    "from sklearn.feature_extraction.text import CountVectorizer\n",
    "from sklearn.feature_extraction.text import TfidfVectorizer\n",
    "from sklearn.preprocessing import LabelBinarizer\n",
    "from nltk.corpus import stopwords\n",
    "from nltk.stem.porter import PorterStemmer\n",
    "from wordcloud import WordCloud,STOPWORDS\n",
    "from nltk.stem import WordNetLemmatizer\n",
    "from nltk.tokenize import word_tokenize,sent_tokenize\n",
    "from bs4 import BeautifulSoup\n",
    "import spacy\n",
    "import re,string,unicodedata\n",
    "from nltk.tokenize.toktok import ToktokTokenizer\n",
    "from nltk.stem import LancasterStemmer,WordNetLemmatizer\n",
    "from sklearn.linear_model import LogisticRegression,SGDClassifier\n",
    "from sklearn.naive_bayes import MultinomialNB\n",
    "from sklearn.svm import SVC\n",
    "from sklearn.metrics import classification_report,confusion_matrix,accuracy_score\n",
    "from nltk.sentiment.vader import SentimentIntensityAnalyzer\n",
    "import matplotlib.pyplot as plt\n",
    "import random\n",
    "\n",
    "# Download NLTK resources \n",
    "nltk.download('vader_lexicon')\n",
    "nltk.download('punkt')"
   ]
  },
  {
   "cell_type": "code",
   "execution_count": 2,
   "metadata": {
    "execution": {
     "iopub.execute_input": "2024-05-05T12:45:58.493405Z",
     "iopub.status.busy": "2024-05-05T12:45:58.492710Z",
     "iopub.status.idle": "2024-05-05T12:46:00.207839Z",
     "shell.execute_reply": "2024-05-05T12:46:00.206995Z",
     "shell.execute_reply.started": "2024-05-05T12:45:58.493369Z"
    }
   },
   "outputs": [
    {
     "name": "stdout",
     "output_type": "stream",
     "text": [
      "(50000, 2)\n"
     ]
    },
    {
     "data": {
      "text/html": [
       "<div>\n",
       "<style scoped>\n",
       "    .dataframe tbody tr th:only-of-type {\n",
       "        vertical-align: middle;\n",
       "    }\n",
       "\n",
       "    .dataframe tbody tr th {\n",
       "        vertical-align: top;\n",
       "    }\n",
       "\n",
       "    .dataframe thead th {\n",
       "        text-align: right;\n",
       "    }\n",
       "</style>\n",
       "<table border=\"1\" class=\"dataframe\">\n",
       "  <thead>\n",
       "    <tr style=\"text-align: right;\">\n",
       "      <th></th>\n",
       "      <th>review</th>\n",
       "      <th>sentiment</th>\n",
       "    </tr>\n",
       "  </thead>\n",
       "  <tbody>\n",
       "    <tr>\n",
       "      <th>0</th>\n",
       "      <td>One of the other reviewers has mentioned that ...</td>\n",
       "      <td>positive</td>\n",
       "    </tr>\n",
       "    <tr>\n",
       "      <th>1</th>\n",
       "      <td>A wonderful little production. &lt;br /&gt;&lt;br /&gt;The...</td>\n",
       "      <td>positive</td>\n",
       "    </tr>\n",
       "    <tr>\n",
       "      <th>2</th>\n",
       "      <td>I thought this was a wonderful way to spend ti...</td>\n",
       "      <td>positive</td>\n",
       "    </tr>\n",
       "    <tr>\n",
       "      <th>3</th>\n",
       "      <td>Basically there's a family where a little boy ...</td>\n",
       "      <td>negative</td>\n",
       "    </tr>\n",
       "    <tr>\n",
       "      <th>4</th>\n",
       "      <td>Petter Mattei's \"Love in the Time of Money\" is...</td>\n",
       "      <td>positive</td>\n",
       "    </tr>\n",
       "    <tr>\n",
       "      <th>5</th>\n",
       "      <td>Probably my all-time favorite movie, a story o...</td>\n",
       "      <td>positive</td>\n",
       "    </tr>\n",
       "    <tr>\n",
       "      <th>6</th>\n",
       "      <td>I sure would like to see a resurrection of a u...</td>\n",
       "      <td>positive</td>\n",
       "    </tr>\n",
       "    <tr>\n",
       "      <th>7</th>\n",
       "      <td>This show was an amazing, fresh &amp; innovative i...</td>\n",
       "      <td>negative</td>\n",
       "    </tr>\n",
       "    <tr>\n",
       "      <th>8</th>\n",
       "      <td>Encouraged by the positive comments about this...</td>\n",
       "      <td>negative</td>\n",
       "    </tr>\n",
       "    <tr>\n",
       "      <th>9</th>\n",
       "      <td>If you like original gut wrenching laughter yo...</td>\n",
       "      <td>positive</td>\n",
       "    </tr>\n",
       "  </tbody>\n",
       "</table>\n",
       "</div>"
      ],
      "text/plain": [
       "                                              review sentiment\n",
       "0  One of the other reviewers has mentioned that ...  positive\n",
       "1  A wonderful little production. <br /><br />The...  positive\n",
       "2  I thought this was a wonderful way to spend ti...  positive\n",
       "3  Basically there's a family where a little boy ...  negative\n",
       "4  Petter Mattei's \"Love in the Time of Money\" is...  positive\n",
       "5  Probably my all-time favorite movie, a story o...  positive\n",
       "6  I sure would like to see a resurrection of a u...  positive\n",
       "7  This show was an amazing, fresh & innovative i...  negative\n",
       "8  Encouraged by the positive comments about this...  negative\n",
       "9  If you like original gut wrenching laughter yo...  positive"
      ]
     },
     "execution_count": 2,
     "metadata": {},
     "output_type": "execute_result"
    }
   ],
   "source": [
    "imdb_data=pd.read_csv(\"C:/Users/Admin/Downloads/IMDB Dataset.csv/IMDB Dataset.csv\")\n",
    "print(imdb_data.shape)\n",
    "imdb_data.head(10)"
   ]
  },
  {
   "cell_type": "code",
   "execution_count": 3,
   "metadata": {
    "execution": {
     "iopub.execute_input": "2024-05-05T12:46:03.931677Z",
     "iopub.status.busy": "2024-05-05T12:46:03.931324Z",
     "iopub.status.idle": "2024-05-05T12:46:03.963749Z",
     "shell.execute_reply": "2024-05-05T12:46:03.962880Z",
     "shell.execute_reply.started": "2024-05-05T12:46:03.931652Z"
    }
   },
   "outputs": [
    {
     "name": "stdout",
     "output_type": "stream",
     "text": [
      "<class 'pandas.core.frame.DataFrame'>\n",
      "RangeIndex: 50000 entries, 0 to 49999\n",
      "Data columns (total 2 columns):\n",
      " #   Column     Non-Null Count  Dtype \n",
      "---  ------     --------------  ----- \n",
      " 0   review     50000 non-null  object\n",
      " 1   sentiment  50000 non-null  object\n",
      "dtypes: object(2)\n",
      "memory usage: 781.4+ KB\n"
     ]
    }
   ],
   "source": [
    "imdb_data.info()"
   ]
  },
  {
   "cell_type": "code",
   "execution_count": 4,
   "metadata": {
    "execution": {
     "iopub.execute_input": "2024-05-05T12:46:07.135982Z",
     "iopub.status.busy": "2024-05-05T12:46:07.135632Z",
     "iopub.status.idle": "2024-05-05T12:46:08.002322Z",
     "shell.execute_reply": "2024-05-05T12:46:08.001383Z",
     "shell.execute_reply.started": "2024-05-05T12:46:07.135956Z"
    }
   },
   "outputs": [
    {
     "data": {
      "text/plain": [
       "<AxesSubplot:>"
      ]
     },
     "execution_count": 4,
     "metadata": {},
     "output_type": "execute_result"
    },
    {
     "data": {
      "image/png": "[encoded data removed]",
      "text/plain": [
       "<Figure size 432x288 with 2 Axes>"
      ]
     },
     "metadata": {
      "needs_background": "light"
     },
     "output_type": "display_data"
    }
   ],
   "source": [
    "sns.heatmap(imdb_data.isnull())"
   ]
  },
  {
   "cell_type": "code",
   "execution_count": 5,
   "metadata": {
    "execution": {
     "iopub.execute_input": "2024-05-05T12:46:12.144653Z",
     "iopub.status.busy": "2024-05-05T12:46:12.144290Z",
     "iopub.status.idle": "2024-05-05T12:46:12.245567Z",
     "shell.execute_reply": "2024-05-05T12:46:12.244496Z",
     "shell.execute_reply.started": "2024-05-05T12:46:12.144626Z"
    }
   },
   "outputs": [
    {
     "data": {
      "text/html": [
       "<div>\n",
       "<style scoped>\n",
       "    .dataframe tbody tr th:only-of-type {\n",
       "        vertical-align: middle;\n",
       "    }\n",
       "\n",
       "    .dataframe tbody tr th {\n",
       "        vertical-align: top;\n",
       "    }\n",
       "\n",
       "    .dataframe thead th {\n",
       "        text-align: right;\n",
       "    }\n",
       "</style>\n",
       "<table border=\"1\" class=\"dataframe\">\n",
       "  <thead>\n",
       "    <tr style=\"text-align: right;\">\n",
       "      <th></th>\n",
       "      <th>review</th>\n",
       "      <th>sentiment</th>\n",
       "    </tr>\n",
       "  </thead>\n",
       "  <tbody>\n",
       "    <tr>\n",
       "      <th>count</th>\n",
       "      <td>50000</td>\n",
       "      <td>50000</td>\n",
       "    </tr>\n",
       "    <tr>\n",
       "      <th>unique</th>\n",
       "      <td>49582</td>\n",
       "      <td>2</td>\n",
       "    </tr>\n",
       "    <tr>\n",
       "      <th>top</th>\n",
       "      <td>Loved today's show!!! It was a variety and not...</td>\n",
       "      <td>positive</td>\n",
       "    </tr>\n",
       "    <tr>\n",
       "      <th>freq</th>\n",
       "      <td>5</td>\n",
       "      <td>25000</td>\n",
       "    </tr>\n",
       "  </tbody>\n",
       "</table>\n",
       "</div>"
      ],
      "text/plain": [
       "                                                   review sentiment\n",
       "count                                               50000     50000\n",
       "unique                                              49582         2\n",
       "top     Loved today's show!!! It was a variety and not...  positive\n",
       "freq                                                    5     25000"
      ]
     },
     "execution_count": 5,
     "metadata": {},
     "output_type": "execute_result"
    }
   ],
   "source": [
    "#Summary of the dataset\n",
    "imdb_data.describe()"
   ]
  },
  {
   "cell_type": "code",
   "execution_count": 6,
   "metadata": {
    "execution": {
     "iopub.execute_input": "2024-05-05T12:46:17.611527Z",
     "iopub.status.busy": "2024-05-05T12:46:17.610671Z",
     "iopub.status.idle": "2024-05-05T12:46:17.625333Z",
     "shell.execute_reply": "2024-05-05T12:46:17.624382Z",
     "shell.execute_reply.started": "2024-05-05T12:46:17.611495Z"
    }
   },
   "outputs": [
    {
     "data": {
      "text/plain": [
       "positive    25000\n",
       "negative    25000\n",
       "Name: sentiment, dtype: int64"
      ]
     },
     "execution_count": 6,
     "metadata": {},
     "output_type": "execute_result"
    }
   ],
   "source": [
    "#sentiment count\n",
    "imdb_data['sentiment'].value_counts()"
   ]
  },
  {
   "cell_type": "code",
   "execution_count": 7,
   "metadata": {
    "execution": {
     "iopub.execute_input": "2024-05-05T12:46:21.235882Z",
     "iopub.status.busy": "2024-05-05T12:46:21.235085Z",
     "iopub.status.idle": "2024-05-05T12:46:21.253252Z",
     "shell.execute_reply": "2024-05-05T12:46:21.252494Z",
     "shell.execute_reply.started": "2024-05-05T12:46:21.235853Z"
    }
   },
   "outputs": [],
   "source": [
    "# Initialize Sentiment Intensity Analyzer\n",
    "sid = SentimentIntensityAnalyzer()\n"
   ]
  },
  {
   "cell_type": "code",
   "execution_count": 8,
   "metadata": {
    "execution": {
     "iopub.execute_input": "2024-05-05T12:46:27.746107Z",
     "iopub.status.busy": "2024-05-05T12:46:27.745560Z",
     "iopub.status.idle": "2024-05-05T12:49:12.121624Z",
     "shell.execute_reply": "2024-05-05T12:49:12.120561Z",
     "shell.execute_reply.started": "2024-05-05T12:46:27.746072Z"
    }
   },
   "outputs": [],
   "source": [
    "# Perform sentiment analysis and add sentiment scores to the dataframe\n",
    "imdb_data['sentiment_score'] = imdb_data['review'].apply(lambda x: sid.polarity_scores(x)['compound'])"
   ]
  },
  {
   "cell_type": "code",
   "execution_count": 9,
   "metadata": {
    "execution": {
     "iopub.execute_input": "2024-05-05T12:49:17.134488Z",
     "iopub.status.busy": "2024-05-05T12:49:17.134134Z",
     "iopub.status.idle": "2024-05-05T12:49:17.139835Z",
     "shell.execute_reply": "2024-05-05T12:49:17.138906Z",
     "shell.execute_reply.started": "2024-05-05T12:49:17.134462Z"
    }
   },
   "outputs": [],
   "source": [
    "# Function to generate summaries\n",
    "def generate_summary(data):\n",
    "    overall_sentiment = 'Neutral'\n",
    "    overall_score = data['sentiment_score'].mean()\n",
    "    if overall_score > 0.05:\n",
    "        overall_sentiment = 'Positive'\n",
    "    elif overall_score < -0.05:\n",
    "        overall_sentiment = 'Negative'\n",
    "    \n",
    "    summary = f\"The overall sentiment of the dataset is {overall_sentiment}.\"\n",
    "    return summary"
   ]
  },
  {
   "cell_type": "code",
   "execution_count": 10,
   "metadata": {
    "execution": {
     "iopub.execute_input": "2024-05-05T12:49:26.404976Z",
     "iopub.status.busy": "2024-05-05T12:49:26.404631Z",
     "iopub.status.idle": "2024-05-05T12:49:26.411809Z",
     "shell.execute_reply": "2024-05-05T12:49:26.410891Z",
     "shell.execute_reply.started": "2024-05-05T12:49:26.404949Z"
    }
   },
   "outputs": [],
   "source": [
    "# Function to generate word cloud\n",
    "def generate_wordcloud(data, sentiment):\n",
    "    text = ' '.join(data[data['sentiment'] == sentiment]['review'].tolist())\n",
    "    wordcloud = WordCloud(width = 800, height = 800, \n",
    "                background_color ='white', \n",
    "                stopwords = nltk.corpus.stopwords.words('english'), \n",
    "                min_font_size = 10).generate(text)\n",
    "    plt.figure(figsize = (8, 8), facecolor = None) \n",
    "    plt.imshow(wordcloud) \n",
    "    plt.axis(\"off\") \n",
    "    plt.tight_layout(pad = 0) \n",
    "    plt.title(f\"Word Cloud for {sentiment} Sentiment\")\n",
    "    plt.show()"
   ]
  },
  {
   "cell_type": "code",
   "execution_count": 11,
   "metadata": {
    "execution": {
     "iopub.execute_input": "2024-05-05T12:49:33.828315Z",
     "iopub.status.busy": "2024-05-05T12:49:33.827928Z",
     "iopub.status.idle": "2024-05-05T12:49:33.834359Z",
     "shell.execute_reply": "2024-05-05T12:49:33.833414Z",
     "shell.execute_reply.started": "2024-05-05T12:49:33.828288Z"
    }
   },
   "outputs": [
    {
     "name": "stdout",
     "output_type": "stream",
     "text": [
      "Overall Summary:\n",
      "The overall sentiment of the dataset is Positive.\n"
     ]
    }
   ],
   "source": [
    "# Generate summaries\n",
    "overall_summary = generate_summary(imdb_data)\n",
    "print(\"Overall Summary:\")\n",
    "print(overall_summary)"
   ]
  },
  {
   "cell_type": "code",
   "execution_count": 12,
   "metadata": {
    "execution": {
     "iopub.execute_input": "2024-05-05T12:49:39.825720Z",
     "iopub.status.busy": "2024-05-05T12:49:39.824760Z",
     "iopub.status.idle": "2024-05-05T12:50:29.072797Z",
     "shell.execute_reply": "2024-05-05T12:50:29.071928Z",
     "shell.execute_reply.started": "2024-05-05T12:49:39.825689Z"
    }
   },
   "outputs": [
    {
     "ename": "LookupError",
     "evalue": "\n**********************************************************************\n  Resource \u001b[93mstopwords\u001b[0m not found.\n  Please use the NLTK Downloader to obtain the resource:\n\n  \u001b[31m>>> import nltk\n  >>> nltk.download('stopwords')\n  \u001b[0m\n  For more information see: https://www.nltk.org/data.html\n\n  Attempted to load \u001b[93mcorpora/stopwords\u001b[0m\n\n  Searched in:\n    - 'C:\\\\Users\\\\Admin/nltk_data'\n    - 'C:\\\\Users\\\\Admin\\\\anaconda3\\\\nltk_data'\n    - 'C:\\\\Users\\\\Admin\\\\anaconda3\\\\share\\\\nltk_data'\n    - 'C:\\\\Users\\\\Admin\\\\anaconda3\\\\lib\\\\nltk_data'\n    - 'C:\\\\Users\\\\Admin\\\\AppData\\\\Roaming\\\\nltk_data'\n    - 'C:\\\\nltk_data'\n    - 'D:\\\\nltk_data'\n    - 'E:\\\\nltk_data'\n**********************************************************************\n",
     "output_type": "error",
     "traceback": [
      "\u001b[1;31m---------------------------------------------------------------------------\u001b[0m",
      "\u001b[1;31mLookupError\u001b[0m                               Traceback (most recent call last)",
      "File \u001b[1;32m~\\anaconda3\\lib\\site-packages\\nltk\\corpus\\util.py:84\u001b[0m, in \u001b[0;36mLazyCorpusLoader.__load\u001b[1;34m(self)\u001b[0m\n\u001b[0;32m     83\u001b[0m \u001b[38;5;28;01mtry\u001b[39;00m:\n\u001b[1;32m---> 84\u001b[0m     root \u001b[38;5;241m=\u001b[39m \u001b[43mnltk\u001b[49m\u001b[38;5;241;43m.\u001b[39;49m\u001b[43mdata\u001b[49m\u001b[38;5;241;43m.\u001b[39;49m\u001b[43mfind\u001b[49m\u001b[43m(\u001b[49m\u001b[38;5;124;43mf\u001b[39;49m\u001b[38;5;124;43m\"\u001b[39;49m\u001b[38;5;132;43;01m{\u001b[39;49;00m\u001b[38;5;28;43mself\u001b[39;49m\u001b[38;5;241;43m.\u001b[39;49m\u001b[43msubdir\u001b[49m\u001b[38;5;132;43;01m}\u001b[39;49;00m\u001b[38;5;124;43m/\u001b[39;49m\u001b[38;5;132;43;01m{\u001b[39;49;00m\u001b[43mzip_name\u001b[49m\u001b[38;5;132;43;01m}\u001b[39;49;00m\u001b[38;5;124;43m\"\u001b[39;49m\u001b[43m)\u001b[49m\n\u001b[0;32m     85\u001b[0m \u001b[38;5;28;01mexcept\u001b[39;00m \u001b[38;5;167;01mLookupError\u001b[39;00m:\n",
      "File \u001b[1;32m~\\anaconda3\\lib\\site-packages\\nltk\\data.py:583\u001b[0m, in \u001b[0;36mfind\u001b[1;34m(resource_name, paths)\u001b[0m\n\u001b[0;32m    582\u001b[0m resource_not_found \u001b[38;5;241m=\u001b[39m \u001b[38;5;124mf\u001b[39m\u001b[38;5;124m\"\u001b[39m\u001b[38;5;130;01m\\n\u001b[39;00m\u001b[38;5;132;01m{\u001b[39;00msep\u001b[38;5;132;01m}\u001b[39;00m\u001b[38;5;130;01m\\n\u001b[39;00m\u001b[38;5;132;01m{\u001b[39;00mmsg\u001b[38;5;132;01m}\u001b[39;00m\u001b[38;5;130;01m\\n\u001b[39;00m\u001b[38;5;132;01m{\u001b[39;00msep\u001b[38;5;132;01m}\u001b[39;00m\u001b[38;5;130;01m\\n\u001b[39;00m\u001b[38;5;124m\"\u001b[39m\n\u001b[1;32m--> 583\u001b[0m \u001b[38;5;28;01mraise\u001b[39;00m \u001b[38;5;167;01mLookupError\u001b[39;00m(resource_not_found)\n",
      "\u001b[1;31mLookupError\u001b[0m: \n**********************************************************************\n  Resource \u001b[93mstopwords\u001b[0m not found.\n  Please use the NLTK Downloader to obtain the resource:\n\n  \u001b[31m>>> import nltk\n  >>> nltk.download('stopwords')\n  \u001b[0m\n  For more information see: https://www.nltk.org/data.html\n\n  Attempted to load \u001b[93mcorpora/stopwords.zip/stopwords/\u001b[0m\n\n  Searched in:\n    - 'C:\\\\Users\\\\Admin/nltk_data'\n    - 'C:\\\\Users\\\\Admin\\\\anaconda3\\\\nltk_data'\n    - 'C:\\\\Users\\\\Admin\\\\anaconda3\\\\share\\\\nltk_data'\n    - 'C:\\\\Users\\\\Admin\\\\anaconda3\\\\lib\\\\nltk_data'\n    - 'C:\\\\Users\\\\Admin\\\\AppData\\\\Roaming\\\\nltk_data'\n    - 'C:\\\\nltk_data'\n    - 'D:\\\\nltk_data'\n    - 'E:\\\\nltk_data'\n**********************************************************************\n",
      "\nDuring handling of the above exception, another exception occurred:\n",
      "\u001b[1;31mLookupError\u001b[0m                               Traceback (most recent call last)",
      "Input \u001b[1;32mIn [12]\u001b[0m, in \u001b[0;36m<cell line: 2>\u001b[1;34m()\u001b[0m\n\u001b[0;32m      1\u001b[0m \u001b[38;5;66;03m# Generate word clouds for each sentiment\u001b[39;00m\n\u001b[1;32m----> 2\u001b[0m \u001b[43mgenerate_wordcloud\u001b[49m\u001b[43m(\u001b[49m\u001b[43mimdb_data\u001b[49m\u001b[43m,\u001b[49m\u001b[43m \u001b[49m\u001b[38;5;124;43m'\u001b[39;49m\u001b[38;5;124;43mpositive\u001b[39;49m\u001b[38;5;124;43m'\u001b[39;49m\u001b[43m)\u001b[49m\n\u001b[0;32m      3\u001b[0m generate_wordcloud(imdb_data, \u001b[38;5;124m'\u001b[39m\u001b[38;5;124mnegative\u001b[39m\u001b[38;5;124m'\u001b[39m)\n",
      "Input \u001b[1;32mIn [10]\u001b[0m, in \u001b[0;36mgenerate_wordcloud\u001b[1;34m(data, sentiment)\u001b[0m\n\u001b[0;32m      2\u001b[0m \u001b[38;5;28;01mdef\u001b[39;00m \u001b[38;5;21mgenerate_wordcloud\u001b[39m(data, sentiment):\n\u001b[0;32m      3\u001b[0m     text \u001b[38;5;241m=\u001b[39m \u001b[38;5;124m'\u001b[39m\u001b[38;5;124m \u001b[39m\u001b[38;5;124m'\u001b[39m\u001b[38;5;241m.\u001b[39mjoin(data[data[\u001b[38;5;124m'\u001b[39m\u001b[38;5;124msentiment\u001b[39m\u001b[38;5;124m'\u001b[39m] \u001b[38;5;241m==\u001b[39m sentiment][\u001b[38;5;124m'\u001b[39m\u001b[38;5;124mreview\u001b[39m\u001b[38;5;124m'\u001b[39m]\u001b[38;5;241m.\u001b[39mtolist())\n\u001b[0;32m      4\u001b[0m     wordcloud \u001b[38;5;241m=\u001b[39m WordCloud(width \u001b[38;5;241m=\u001b[39m \u001b[38;5;241m800\u001b[39m, height \u001b[38;5;241m=\u001b[39m \u001b[38;5;241m800\u001b[39m, \n\u001b[0;32m      5\u001b[0m                 background_color \u001b[38;5;241m=\u001b[39m\u001b[38;5;124m'\u001b[39m\u001b[38;5;124mwhite\u001b[39m\u001b[38;5;124m'\u001b[39m, \n\u001b[1;32m----> 6\u001b[0m                 stopwords \u001b[38;5;241m=\u001b[39m \u001b[43mnltk\u001b[49m\u001b[38;5;241;43m.\u001b[39;49m\u001b[43mcorpus\u001b[49m\u001b[38;5;241;43m.\u001b[39;49m\u001b[43mstopwords\u001b[49m\u001b[38;5;241;43m.\u001b[39;49m\u001b[43mwords\u001b[49m(\u001b[38;5;124m'\u001b[39m\u001b[38;5;124menglish\u001b[39m\u001b[38;5;124m'\u001b[39m), \n\u001b[0;32m      7\u001b[0m                 min_font_size \u001b[38;5;241m=\u001b[39m \u001b[38;5;241m10\u001b[39m)\u001b[38;5;241m.\u001b[39mgenerate(text)\n\u001b[0;32m      8\u001b[0m     plt\u001b[38;5;241m.\u001b[39mfigure(figsize \u001b[38;5;241m=\u001b[39m (\u001b[38;5;241m8\u001b[39m, \u001b[38;5;241m8\u001b[39m), facecolor \u001b[38;5;241m=\u001b[39m \u001b[38;5;28;01mNone\u001b[39;00m) \n\u001b[0;32m      9\u001b[0m     plt\u001b[38;5;241m.\u001b[39mimshow(wordcloud) \n",
      "File \u001b[1;32m~\\anaconda3\\lib\\site-packages\\nltk\\corpus\\util.py:121\u001b[0m, in \u001b[0;36mLazyCorpusLoader.__getattr__\u001b[1;34m(self, attr)\u001b[0m\n\u001b[0;32m    118\u001b[0m \u001b[38;5;28;01mif\u001b[39;00m attr \u001b[38;5;241m==\u001b[39m \u001b[38;5;124m\"\u001b[39m\u001b[38;5;124m__bases__\u001b[39m\u001b[38;5;124m\"\u001b[39m:\n\u001b[0;32m    119\u001b[0m     \u001b[38;5;28;01mraise\u001b[39;00m \u001b[38;5;167;01mAttributeError\u001b[39;00m(\u001b[38;5;124m\"\u001b[39m\u001b[38;5;124mLazyCorpusLoader object has no attribute \u001b[39m\u001b[38;5;124m'\u001b[39m\u001b[38;5;124m__bases__\u001b[39m\u001b[38;5;124m'\u001b[39m\u001b[38;5;124m\"\u001b[39m)\n\u001b[1;32m--> 121\u001b[0m \u001b[38;5;28;43mself\u001b[39;49m\u001b[38;5;241;43m.\u001b[39;49m\u001b[43m__load\u001b[49m\u001b[43m(\u001b[49m\u001b[43m)\u001b[49m\n\u001b[0;32m    122\u001b[0m \u001b[38;5;66;03m# This looks circular, but its not, since __load() changes our\u001b[39;00m\n\u001b[0;32m    123\u001b[0m \u001b[38;5;66;03m# __class__ to something new:\u001b[39;00m\n\u001b[0;32m    124\u001b[0m \u001b[38;5;28;01mreturn\u001b[39;00m \u001b[38;5;28mgetattr\u001b[39m(\u001b[38;5;28mself\u001b[39m, attr)\n",
      "File \u001b[1;32m~\\anaconda3\\lib\\site-packages\\nltk\\corpus\\util.py:86\u001b[0m, in \u001b[0;36mLazyCorpusLoader.__load\u001b[1;34m(self)\u001b[0m\n\u001b[0;32m     84\u001b[0m             root \u001b[38;5;241m=\u001b[39m nltk\u001b[38;5;241m.\u001b[39mdata\u001b[38;5;241m.\u001b[39mfind(\u001b[38;5;124mf\u001b[39m\u001b[38;5;124m\"\u001b[39m\u001b[38;5;132;01m{\u001b[39;00m\u001b[38;5;28mself\u001b[39m\u001b[38;5;241m.\u001b[39msubdir\u001b[38;5;132;01m}\u001b[39;00m\u001b[38;5;124m/\u001b[39m\u001b[38;5;132;01m{\u001b[39;00mzip_name\u001b[38;5;132;01m}\u001b[39;00m\u001b[38;5;124m\"\u001b[39m)\n\u001b[0;32m     85\u001b[0m         \u001b[38;5;28;01mexcept\u001b[39;00m \u001b[38;5;167;01mLookupError\u001b[39;00m:\n\u001b[1;32m---> 86\u001b[0m             \u001b[38;5;28;01mraise\u001b[39;00m e\n\u001b[0;32m     88\u001b[0m \u001b[38;5;66;03m# Load the corpus.\u001b[39;00m\n\u001b[0;32m     89\u001b[0m corpus \u001b[38;5;241m=\u001b[39m \u001b[38;5;28mself\u001b[39m\u001b[38;5;241m.\u001b[39m__reader_cls(root, \u001b[38;5;241m*\u001b[39m\u001b[38;5;28mself\u001b[39m\u001b[38;5;241m.\u001b[39m__args, \u001b[38;5;241m*\u001b[39m\u001b[38;5;241m*\u001b[39m\u001b[38;5;28mself\u001b[39m\u001b[38;5;241m.\u001b[39m__kwargs)\n",
      "File \u001b[1;32m~\\anaconda3\\lib\\site-packages\\nltk\\corpus\\util.py:81\u001b[0m, in \u001b[0;36mLazyCorpusLoader.__load\u001b[1;34m(self)\u001b[0m\n\u001b[0;32m     79\u001b[0m \u001b[38;5;28;01melse\u001b[39;00m:\n\u001b[0;32m     80\u001b[0m     \u001b[38;5;28;01mtry\u001b[39;00m:\n\u001b[1;32m---> 81\u001b[0m         root \u001b[38;5;241m=\u001b[39m \u001b[43mnltk\u001b[49m\u001b[38;5;241;43m.\u001b[39;49m\u001b[43mdata\u001b[49m\u001b[38;5;241;43m.\u001b[39;49m\u001b[43mfind\u001b[49m\u001b[43m(\u001b[49m\u001b[38;5;124;43mf\u001b[39;49m\u001b[38;5;124;43m\"\u001b[39;49m\u001b[38;5;132;43;01m{\u001b[39;49;00m\u001b[38;5;28;43mself\u001b[39;49m\u001b[38;5;241;43m.\u001b[39;49m\u001b[43msubdir\u001b[49m\u001b[38;5;132;43;01m}\u001b[39;49;00m\u001b[38;5;124;43m/\u001b[39;49m\u001b[38;5;132;43;01m{\u001b[39;49;00m\u001b[38;5;28;43mself\u001b[39;49m\u001b[38;5;241;43m.\u001b[39;49m\u001b[43m__name\u001b[49m\u001b[38;5;132;43;01m}\u001b[39;49;00m\u001b[38;5;124;43m\"\u001b[39;49m\u001b[43m)\u001b[49m\n\u001b[0;32m     82\u001b[0m     \u001b[38;5;28;01mexcept\u001b[39;00m \u001b[38;5;167;01mLookupError\u001b[39;00m \u001b[38;5;28;01mas\u001b[39;00m e:\n\u001b[0;32m     83\u001b[0m         \u001b[38;5;28;01mtry\u001b[39;00m:\n",
      "File \u001b[1;32m~\\anaconda3\\lib\\site-packages\\nltk\\data.py:583\u001b[0m, in \u001b[0;36mfind\u001b[1;34m(resource_name, paths)\u001b[0m\n\u001b[0;32m    581\u001b[0m sep \u001b[38;5;241m=\u001b[39m \u001b[38;5;124m\"\u001b[39m\u001b[38;5;124m*\u001b[39m\u001b[38;5;124m\"\u001b[39m \u001b[38;5;241m*\u001b[39m \u001b[38;5;241m70\u001b[39m\n\u001b[0;32m    582\u001b[0m resource_not_found \u001b[38;5;241m=\u001b[39m \u001b[38;5;124mf\u001b[39m\u001b[38;5;124m\"\u001b[39m\u001b[38;5;130;01m\\n\u001b[39;00m\u001b[38;5;132;01m{\u001b[39;00msep\u001b[38;5;132;01m}\u001b[39;00m\u001b[38;5;130;01m\\n\u001b[39;00m\u001b[38;5;132;01m{\u001b[39;00mmsg\u001b[38;5;132;01m}\u001b[39;00m\u001b[38;5;130;01m\\n\u001b[39;00m\u001b[38;5;132;01m{\u001b[39;00msep\u001b[38;5;132;01m}\u001b[39;00m\u001b[38;5;130;01m\\n\u001b[39;00m\u001b[38;5;124m\"\u001b[39m\n\u001b[1;32m--> 583\u001b[0m \u001b[38;5;28;01mraise\u001b[39;00m \u001b[38;5;167;01mLookupError\u001b[39;00m(resource_not_found)\n",
      "\u001b[1;31mLookupError\u001b[0m: \n**********************************************************************\n  Resource \u001b[93mstopwords\u001b[0m not found.\n  Please use the NLTK Downloader to obtain the resource:\n\n  \u001b[31m>>> import nltk\n  >>> nltk.download('stopwords')\n  \u001b[0m\n  For more information see: https://www.nltk.org/data.html\n\n  Attempted to load \u001b[93mcorpora/stopwords\u001b[0m\n\n  Searched in:\n    - 'C:\\\\Users\\\\Admin/nltk_data'\n    - 'C:\\\\Users\\\\Admin\\\\anaconda3\\\\nltk_data'\n    - 'C:\\\\Users\\\\Admin\\\\anaconda3\\\\share\\\\nltk_data'\n    - 'C:\\\\Users\\\\Admin\\\\anaconda3\\\\lib\\\\nltk_data'\n    - 'C:\\\\Users\\\\Admin\\\\AppData\\\\Roaming\\\\nltk_data'\n    - 'C:\\\\nltk_data'\n    - 'D:\\\\nltk_data'\n    - 'E:\\\\nltk_data'\n**********************************************************************\n"
     ]
    }
   ],
   "source": [
    "# Generate word clouds for each sentiment\n",
    "generate_wordcloud(imdb_data, 'positive')\n",
    "generate_wordcloud(imdb_data, 'negative')"
   ]
  },
  {
   "cell_type": "code",
   "execution_count": null,
   "metadata": {
    "execution": {
     "iopub.execute_input": "2024-05-05T12:51:17.587639Z",
     "iopub.status.busy": "2024-05-05T12:51:17.587280Z",
     "iopub.status.idle": "2024-05-05T12:51:17.892292Z",
     "shell.execute_reply": "2024-05-05T12:51:17.891414Z",
     "shell.execute_reply.started": "2024-05-05T12:51:17.587613Z"
    }
   },
   "outputs": [],
   "source": [
    "# Visualize sentiment distribution\n",
    "plt.hist(imdb_data['sentiment_score'], bins=20, color='skyblue')\n",
    "plt.title('Sentiment Distribution')\n",
    "plt.xlabel('Sentiment Score')\n",
    "plt.ylabel('Frequency')\n",
    "plt.show()"
   ]
  },
  {
   "cell_type": "code",
   "execution_count": null,
   "metadata": {
    "execution": {
     "iopub.execute_input": "2024-05-05T12:51:25.868693Z",
     "iopub.status.busy": "2024-05-05T12:51:25.868332Z",
     "iopub.status.idle": "2024-05-05T12:51:25.921064Z",
     "shell.execute_reply": "2024-05-05T12:51:25.920065Z",
     "shell.execute_reply.started": "2024-05-05T12:51:25.868667Z"
    }
   },
   "outputs": [],
   "source": [
    "# Convert 'sentiment' column to binary (1 for positive, 0 for negative)\n",
    "imdb_data['sentiment'] = imdb_data['sentiment'].apply(lambda x: 1 if x == 'positive' else 0)\n",
    "imdb_data.head()\n"
   ]
  },
  {
   "cell_type": "code",
   "execution_count": null,
   "metadata": {
    "execution": {
     "iopub.execute_input": "2024-05-05T12:51:45.406135Z",
     "iopub.status.busy": "2024-05-05T12:51:45.405749Z",
     "iopub.status.idle": "2024-05-05T12:51:45.423895Z",
     "shell.execute_reply": "2024-05-05T12:51:45.422964Z",
     "shell.execute_reply.started": "2024-05-05T12:51:45.406108Z"
    }
   },
   "outputs": [],
   "source": [
    "imdb_data.info()"
   ]
  },
  {
   "cell_type": "code",
   "execution_count": null,
   "metadata": {
    "execution": {
     "iopub.execute_input": "2024-05-05T12:51:49.237232Z",
     "iopub.status.busy": "2024-05-05T12:51:49.236867Z",
     "iopub.status.idle": "2024-05-05T12:51:49.243707Z",
     "shell.execute_reply": "2024-05-05T12:51:49.242783Z",
     "shell.execute_reply.started": "2024-05-05T12:51:49.237204Z"
    }
   },
   "outputs": [],
   "source": [
    "#split the dataset  \n",
    "#train dataset\n",
    "train_reviews=imdb_data.review[:40000]\n",
    "train_sentiments=imdb_data.sentiment[:40000]\n",
    "#test dataset\n",
    "test_reviews=imdb_data.review[40000:]\n",
    "test_sentiments=imdb_data.sentiment[40000:]\n",
    "print(train_reviews.shape,train_sentiments.shape)\n",
    "print(test_reviews.shape,test_sentiments.shape)"
   ]
  },
  {
   "cell_type": "code",
   "execution_count": null,
   "metadata": {
    "execution": {
     "iopub.execute_input": "2024-05-05T12:51:53.110319Z",
     "iopub.status.busy": "2024-05-05T12:51:53.109956Z",
     "iopub.status.idle": "2024-05-05T12:51:53.115376Z",
     "shell.execute_reply": "2024-05-05T12:51:53.114473Z",
     "shell.execute_reply.started": "2024-05-05T12:51:53.110292Z"
    }
   },
   "outputs": [],
   "source": [
    "#Tokenization of text\n",
    "tokenizer=ToktokTokenizer()\n",
    "#Setting English stopwords\n",
    "stopword_list=nltk.corpus.stopwords.words('english')"
   ]
  },
  {
   "cell_type": "code",
   "execution_count": null,
   "metadata": {
    "execution": {
     "iopub.execute_input": "2024-05-05T12:51:57.885432Z",
     "iopub.status.busy": "2024-05-05T12:51:57.885088Z",
     "iopub.status.idle": "2024-05-05T12:51:57.891476Z",
     "shell.execute_reply": "2024-05-05T12:51:57.890487Z",
     "shell.execute_reply.started": "2024-05-05T12:51:57.885405Z"
    }
   },
   "outputs": [],
   "source": [
    "import string\n",
    "string.punctuation"
   ]
  },
  {
   "cell_type": "code",
   "execution_count": null,
   "metadata": {
    "execution": {
     "iopub.execute_input": "2024-05-05T12:52:01.009311Z",
     "iopub.status.busy": "2024-05-05T12:52:01.008965Z",
     "iopub.status.idle": "2024-05-05T12:52:09.139931Z",
     "shell.execute_reply": "2024-05-05T12:52:09.138945Z",
     "shell.execute_reply.started": "2024-05-05T12:52:01.009287Z"
    }
   },
   "outputs": [],
   "source": [
    "imdb_data['review'] = imdb_data['review'].apply(lambda x: [a for a in x if a not in string.punctuation])"
   ]
  },
  {
   "cell_type": "code",
   "execution_count": null,
   "metadata": {
    "execution": {
     "iopub.execute_input": "2024-05-05T12:54:00.771396Z",
     "iopub.status.busy": "2024-05-05T12:54:00.771033Z",
     "iopub.status.idle": "2024-05-05T12:54:00.778884Z",
     "shell.execute_reply": "2024-05-05T12:54:00.778149Z",
     "shell.execute_reply.started": "2024-05-05T12:54:00.771371Z"
    }
   },
   "outputs": [],
   "source": [
    "imdb_data = pd.DataFrame(data=imdb_data,columns=['review','sentiment'])"
   ]
  },
  {
   "cell_type": "code",
   "execution_count": null,
   "metadata": {
    "execution": {
     "iopub.execute_input": "2024-05-05T12:54:03.879608Z",
     "iopub.status.busy": "2024-05-05T12:54:03.878796Z",
     "iopub.status.idle": "2024-05-05T12:54:05.233497Z",
     "shell.execute_reply": "2024-05-05T12:54:05.232545Z",
     "shell.execute_reply.started": "2024-05-05T12:54:03.879577Z"
    }
   },
   "outputs": [],
   "source": [
    "imdb_data['review']=imdb_data['review'].apply(''.join)"
   ]
  },
  {
   "cell_type": "code",
   "execution_count": null,
   "metadata": {
    "execution": {
     "iopub.execute_input": "2024-05-05T12:54:13.025389Z",
     "iopub.status.busy": "2024-05-05T12:54:13.025052Z",
     "iopub.status.idle": "2024-05-05T12:54:13.036854Z",
     "shell.execute_reply": "2024-05-05T12:54:13.035959Z",
     "shell.execute_reply.started": "2024-05-05T12:54:13.025361Z"
    }
   },
   "outputs": [],
   "source": [
    "imdb_data"
   ]
  },
  {
   "cell_type": "code",
   "execution_count": null,
   "metadata": {
    "execution": {
     "iopub.execute_input": "2024-05-05T12:54:18.703988Z",
     "iopub.status.busy": "2024-05-05T12:54:18.703393Z",
     "iopub.status.idle": "2024-05-05T12:54:22.002473Z",
     "shell.execute_reply": "2024-05-05T12:54:22.001510Z",
     "shell.execute_reply.started": "2024-05-05T12:54:18.703960Z"
    }
   },
   "outputs": [],
   "source": [
    "#Removing the html strips\n",
    "def strip_html(text):\n",
    "    soup = BeautifulSoup(text, \"html.parser\")\n",
    "    return soup.get_text()\n",
    "\n",
    "#Removing the square brackets\n",
    "def remove_between_square_brackets(text):\n",
    "    return re.sub('\\[[^]]*\\]', '', text)\n",
    "\n",
    "#Removing the noisy text\n",
    "def denoise_text(text):\n",
    "    text = strip_html(text)\n",
    "    text = remove_between_square_brackets(text)\n",
    "    return text\n",
    "#Apply function on review column\n",
    "imdb_data['review']=imdb_data['review'].apply(denoise_text)\n"
   ]
  },
  {
   "cell_type": "code",
   "execution_count": null,
   "metadata": {
    "execution": {
     "iopub.execute_input": "2024-05-05T12:54:31.127352Z",
     "iopub.status.busy": "2024-05-05T12:54:31.126984Z",
     "iopub.status.idle": "2024-05-05T12:54:32.925624Z",
     "shell.execute_reply": "2024-05-05T12:54:32.924846Z",
     "shell.execute_reply.started": "2024-05-05T12:54:31.127323Z"
    }
   },
   "outputs": [],
   "source": [
    "#Define function for removing special characters\n",
    "def remove_special_characters(text, remove_digits=True):\n",
    "    pattern=r'[^a-zA-z0-9\\s]'\n",
    "    text=re.sub(pattern,'',text)\n",
    "    return text\n",
    "#Apply function on review column\n",
    "imdb_data['review']=imdb_data['review'].apply(remove_special_characters)"
   ]
  },
  {
   "cell_type": "code",
   "execution_count": null,
   "metadata": {
    "execution": {
     "iopub.execute_input": "2024-05-05T12:54:36.369885Z",
     "iopub.status.busy": "2024-05-05T12:54:36.369550Z",
     "iopub.status.idle": "2024-05-05T12:59:42.823406Z",
     "shell.execute_reply": "2024-05-05T12:59:42.822504Z",
     "shell.execute_reply.started": "2024-05-05T12:54:36.369862Z"
    }
   },
   "outputs": [],
   "source": [
    "#Stemming the text\n",
    "def simple_stemmer(text):\n",
    "    ps=nltk.porter.PorterStemmer()\n",
    "    text= ' '.join([ps.stem(word) for word in text.split()])\n",
    "    return text\n",
    "#Apply function on review column\n",
    "imdb_data['review']=imdb_data['review'].apply(simple_stemmer)"
   ]
  },
  {
   "cell_type": "code",
   "execution_count": null,
   "metadata": {
    "execution": {
     "iopub.execute_input": "2024-05-05T12:59:42.826508Z",
     "iopub.status.busy": "2024-05-05T12:59:42.826219Z",
     "iopub.status.idle": "2024-05-05T13:00:33.150111Z",
     "shell.execute_reply": "2024-05-05T13:00:33.149149Z",
     "shell.execute_reply.started": "2024-05-05T12:59:42.826484Z"
    }
   },
   "outputs": [],
   "source": [
    "#Filtering\n",
    "#set stopwords to english\n",
    "stop=set(stopwords.words('english'))\n",
    "print(stop)\n",
    "\n",
    "#removing the stopwords\n",
    "def remove_stopwords(text, is_lower_case=False):\n",
    "    tokens = tokenizer.tokenize(text)\n",
    "    tokens = [token.strip() for token in tokens]\n",
    "    if is_lower_case:\n",
    "        filtered_tokens = [token for token in tokens if token not in stopword_list]\n",
    "    else:\n",
    "        filtered_tokens = [token for token in tokens if token.lower() not in stopword_list]\n",
    "\n",
    "    filtered_text = ' '.join(filtered_tokens)    \n",
    "    return filtered_text\n",
    "#Apply function on review column\n",
    "imdb_data['review']=imdb_data['review'].apply(remove_stopwords)"
   ]
  },
  {
   "cell_type": "code",
   "execution_count": null,
   "metadata": {
    "execution": {
     "iopub.execute_input": "2024-05-05T13:00:33.151969Z",
     "iopub.status.busy": "2024-05-05T13:00:33.151673Z",
     "iopub.status.idle": "2024-05-05T13:00:33.158232Z",
     "shell.execute_reply": "2024-05-05T13:00:33.157226Z",
     "shell.execute_reply.started": "2024-05-05T13:00:33.151946Z"
    }
   },
   "outputs": [],
   "source": [
    "#normalized train reviews\n",
    "norm_train_reviews=imdb_data.review[:40000]\n",
    "norm_train_reviews[0]\n"
   ]
  },
  {
   "cell_type": "code",
   "execution_count": null,
   "metadata": {
    "execution": {
     "iopub.execute_input": "2024-05-05T13:00:33.160481Z",
     "iopub.status.busy": "2024-05-05T13:00:33.160202Z",
     "iopub.status.idle": "2024-05-05T13:00:33.170042Z",
     "shell.execute_reply": "2024-05-05T13:00:33.169153Z",
     "shell.execute_reply.started": "2024-05-05T13:00:33.160459Z"
    }
   },
   "outputs": [],
   "source": [
    "#Normalized test reviews\n",
    "norm_test_reviews=imdb_data.review[40000:]\n",
    "norm_test_reviews[45005]\n"
   ]
  },
  {
   "cell_type": "code",
   "execution_count": null,
   "metadata": {
    "execution": {
     "iopub.execute_input": "2024-05-05T13:00:33.171307Z",
     "iopub.status.busy": "2024-05-05T13:00:33.171003Z",
     "iopub.status.idle": "2024-05-05T13:00:33.184617Z",
     "shell.execute_reply": "2024-05-05T13:00:33.183737Z",
     "shell.execute_reply.started": "2024-05-05T13:00:33.171286Z"
    }
   },
   "outputs": [],
   "source": [
    "imdb_data.head()"
   ]
  },
  {
   "cell_type": "code",
   "execution_count": null,
   "metadata": {
    "execution": {
     "iopub.execute_input": "2024-05-05T13:00:33.185931Z",
     "iopub.status.busy": "2024-05-05T13:00:33.185683Z",
     "iopub.status.idle": "2024-05-05T13:01:23.097609Z",
     "shell.execute_reply": "2024-05-05T13:01:23.096700Z",
     "shell.execute_reply.started": "2024-05-05T13:00:33.185910Z"
    }
   },
   "outputs": [],
   "source": [
    "#Bag of Words model\n",
    "#Count vectorizer for bag of words\n",
    "cv=CountVectorizer(min_df=0,max_df=1,binary=False,ngram_range=(1,3))\n",
    "#transformed train reviews\n",
    "cv_train_reviews=cv.fit_transform(norm_train_reviews)\n",
    "#transformed test reviews\n",
    "cv_test_reviews=cv.transform(norm_test_reviews)\n",
    "\n",
    "print('BOW_cv_train:',cv_train_reviews.shape)\n",
    "print('BOW_cv_test:',cv_test_reviews.shape)\n",
    "#vocab=cv.get_feature_names()-toget feature names"
   ]
  },
  {
   "cell_type": "code",
   "execution_count": null,
   "metadata": {
    "execution": {
     "iopub.execute_input": "2024-05-05T13:01:23.099170Z",
     "iopub.status.busy": "2024-05-05T13:01:23.098862Z",
     "iopub.status.idle": "2024-05-05T13:02:15.645066Z",
     "shell.execute_reply": "2024-05-05T13:02:15.644036Z",
     "shell.execute_reply.started": "2024-05-05T13:01:23.099145Z"
    }
   },
   "outputs": [],
   "source": [
    "#Tfidf model\n",
    "#Tfidf vectorizer\n",
    "tv=TfidfVectorizer(min_df=0,max_df=1,use_idf=True,ngram_range=(1,3))\n",
    "#transformed train reviews\n",
    "tv_train_reviews=tv.fit_transform(norm_train_reviews)\n",
    "#transformed test reviews\n",
    "tv_test_reviews=tv.transform(norm_test_reviews)\n",
    "print('Tfidf_train:',tv_train_reviews.shape)\n",
    "print('Tfidf_test:',tv_test_reviews.shape)"
   ]
  },
  {
   "cell_type": "code",
   "execution_count": null,
   "metadata": {
    "execution": {
     "iopub.execute_input": "2024-05-05T13:02:15.646663Z",
     "iopub.status.busy": "2024-05-05T13:02:15.646368Z",
     "iopub.status.idle": "2024-05-05T13:02:15.657967Z",
     "shell.execute_reply": "2024-05-05T13:02:15.657085Z",
     "shell.execute_reply.started": "2024-05-05T13:02:15.646639Z"
    }
   },
   "outputs": [],
   "source": [
    "#labeling the sentiment data\n",
    "lb=LabelBinarizer()\n",
    "#transformed sentiment data\n",
    "sentiment_data=lb.fit_transform(imdb_data['sentiment'])\n",
    "print(sentiment_data.shape)"
   ]
  },
  {
   "cell_type": "code",
   "execution_count": null,
   "metadata": {
    "execution": {
     "iopub.execute_input": "2024-05-05T13:02:15.659555Z",
     "iopub.status.busy": "2024-05-05T13:02:15.659258Z",
     "iopub.status.idle": "2024-05-05T13:02:15.665783Z",
     "shell.execute_reply": "2024-05-05T13:02:15.664888Z",
     "shell.execute_reply.started": "2024-05-05T13:02:15.659531Z"
    }
   },
   "outputs": [],
   "source": [
    "#Spliting the sentiment data\n",
    "train_sentiments=sentiment_data[:40000]\n",
    "test_sentiments=sentiment_data[40000:]\n",
    "print(train_sentiments)\n",
    "print(test_sentiments)\n"
   ]
  },
  {
   "cell_type": "code",
   "execution_count": null,
   "metadata": {
    "execution": {
     "iopub.execute_input": "2024-05-05T13:02:15.670179Z",
     "iopub.status.busy": "2024-05-05T13:02:15.669905Z",
     "iopub.status.idle": "2024-05-05T13:04:18.757052Z",
     "shell.execute_reply": "2024-05-05T13:04:18.755934Z",
     "shell.execute_reply.started": "2024-05-05T13:02:15.670156Z"
    }
   },
   "outputs": [],
   "source": [
    "#training the model\n",
    "lr=LogisticRegression(penalty='l2',max_iter=500,C=1,random_state=42)\n",
    "#Fitting the model for Bag of words\n",
    "lr_bow=lr.fit(cv_train_reviews,train_sentiments)\n",
    "print(lr_bow)\n",
    "#Fitting the model for tfidf features\n",
    "lr_tfidf=lr.fit(tv_train_reviews,train_sentiments)\n",
    "print(lr_tfidf)"
   ]
  },
  {
   "cell_type": "code",
   "execution_count": null,
   "metadata": {
    "execution": {
     "iopub.execute_input": "2024-05-05T13:04:18.758281Z",
     "iopub.status.busy": "2024-05-05T13:04:18.757984Z",
     "iopub.status.idle": "2024-05-05T13:04:18.769554Z",
     "shell.execute_reply": "2024-05-05T13:04:18.768709Z",
     "shell.execute_reply.started": "2024-05-05T13:04:18.758259Z"
    }
   },
   "outputs": [],
   "source": [
    "#Predicting the model for bag of words\n",
    "lr_bow_predict=lr.predict(cv_test_reviews)\n",
    "print(lr_bow_predict)\n",
    "##Predicting the model for tfidf features\n",
    "lr_tfidf_predict=lr.predict(tv_test_reviews)\n",
    "print(lr_tfidf_predict)"
   ]
  },
  {
   "cell_type": "code",
   "execution_count": null,
   "metadata": {
    "execution": {
     "iopub.execute_input": "2024-05-05T13:04:18.771048Z",
     "iopub.status.busy": "2024-05-05T13:04:18.770755Z",
     "iopub.status.idle": "2024-05-05T13:04:18.778515Z",
     "shell.execute_reply": "2024-05-05T13:04:18.777638Z",
     "shell.execute_reply.started": "2024-05-05T13:04:18.771005Z"
    }
   },
   "outputs": [],
   "source": [
    "#Accuracy score for bag of words\n",
    "lr_bow_score=accuracy_score(test_sentiments,lr_bow_predict)\n",
    "print(\"lr_bow_score :\",lr_bow_score)\n",
    "#Accuracy score for tfidf features\n",
    "lr_tfidf_score=accuracy_score(test_sentiments,lr_tfidf_predict)\n",
    "print(\"lr_tfidf_score :\",lr_tfidf_score)"
   ]
  },
  {
   "cell_type": "code",
   "execution_count": null,
   "metadata": {
    "execution": {
     "iopub.execute_input": "2024-05-05T13:04:18.779807Z",
     "iopub.status.busy": "2024-05-05T13:04:18.779569Z",
     "iopub.status.idle": "2024-05-05T13:04:18.808981Z",
     "shell.execute_reply": "2024-05-05T13:04:18.808186Z",
     "shell.execute_reply.started": "2024-05-05T13:04:18.779787Z"
    }
   },
   "outputs": [],
   "source": [
    "#Classification report for bag of words \n",
    "lr_bow_report=classification_report(test_sentiments,lr_bow_predict,target_names=['Positive','Negative'])\n",
    "print(lr_bow_report)\n",
    "\n",
    "#Classification report for tfidf features\n",
    "lr_tfidf_report=classification_report(test_sentiments,lr_tfidf_predict,target_names=['Positive','Negative'])\n",
    "print(lr_tfidf_report)"
   ]
  },
  {
   "cell_type": "code",
   "execution_count": null,
   "metadata": {
    "execution": {
     "iopub.execute_input": "2024-05-05T13:04:18.810334Z",
     "iopub.status.busy": "2024-05-05T13:04:18.810083Z",
     "iopub.status.idle": "2024-05-05T13:04:18.835840Z",
     "shell.execute_reply": "2024-05-05T13:04:18.835061Z",
     "shell.execute_reply.started": "2024-05-05T13:04:18.810312Z"
    }
   },
   "outputs": [],
   "source": [
    "#confusion matrix for bag of words\n",
    "cm_bow=confusion_matrix(test_sentiments,lr_bow_predict,labels=[1,0])\n",
    "print(cm_bow)\n",
    "#confusion matrix for tfidf features\n",
    "cm_tfidf=confusion_matrix(test_sentiments,lr_tfidf_predict,labels=[1,0])\n",
    "print(cm_tfidf)"
   ]
  },
  {
   "cell_type": "code",
   "execution_count": null,
   "metadata": {
    "execution": {
     "iopub.execute_input": "2024-05-05T13:04:18.837312Z",
     "iopub.status.busy": "2024-05-05T13:04:18.836967Z",
     "iopub.status.idle": "2024-05-05T13:04:18.857312Z",
     "shell.execute_reply": "2024-05-05T13:04:18.856208Z",
     "shell.execute_reply.started": "2024-05-05T13:04:18.837280Z"
    }
   },
   "outputs": [],
   "source": [
    "import re\n",
    "from nltk.corpus import stopwords\n",
    "from nltk.tokenize import word_tokenize\n",
    "from nltk.stem import PorterStemmer\n",
    "\n",
    "def preprocess_text(text):\n",
    "    text = text.lower()\n",
    "    text = re.sub(r'[^a-zA-Z\\s]', '', text)\n",
    "    tokens = word_tokenize(text)\n",
    "    stop_words = set(stopwords.words('english'))\n",
    "    tokens = [word for word in tokens if word not in stop_words]\n",
    "    stemmer = PorterStemmer()\n",
    "    tokens = [stemmer.stem(word) for word in tokens]\n",
    "    preprocessed_text = ' '.join(tokens)\n",
    "    return preprocessed_text\n",
    "\n",
    "\n",
    "# Example new text data\n",
    "new_text = \"This hate this movie.\"\n",
    "\n",
    "\n",
    "cleaned_text = preprocess_text(new_text)\n",
    "\n",
    "# Vectorize the cleaned text using the same vectorizer used during training\n",
    "vectorized_text = cv.transform([cleaned_text])\n",
    "\n",
    "# Make predictions using the trained model\n",
    "prediction = lr.predict(vectorized_text)\n",
    "# Interpret the prediction\n",
    "if prediction == 1:\n",
    "    print(\"The sentiment of the new text is Positive.\")\n",
    "else:\n",
    "    print(\"The sentiment of the new text is Negative.\")"
   ]
  },
  {
   "cell_type": "code",
   "execution_count": null,
   "metadata": {
    "execution": {
     "iopub.execute_input": "2024-05-05T13:04:18.858957Z",
     "iopub.status.busy": "2024-05-05T13:04:18.858577Z",
     "iopub.status.idle": "2024-05-05T13:04:18.866219Z",
     "shell.execute_reply": "2024-05-05T13:04:18.865403Z",
     "shell.execute_reply.started": "2024-05-05T13:04:18.858924Z"
    }
   },
   "outputs": [],
   "source": [
    "# Example new text data\n",
    "new_text = \"This love this movie.\"\n",
    "\n",
    "\n",
    "cleaned_text = preprocess_text(new_text)\n",
    "\n",
    "# Vectorize the cleaned text using the same vectorizer used during training\n",
    "vectorized_text = cv.transform([cleaned_text])\n",
    "\n",
    "# Make predictions using the trained model\n",
    "prediction = lr_bow.predict(vectorized_text)\n",
    "# Interpret the prediction\n",
    "if prediction == 1:\n",
    "    print(\"The sentiment of the new text is Positive.\")\n",
    "else:\n",
    "    print(\"The sentiment of the new text is Negative.\")"
   ]
  },
  {
   "cell_type": "code",
   "execution_count": null,
   "metadata": {
    "execution": {
     "iopub.execute_input": "2024-05-05T13:04:18.867665Z",
     "iopub.status.busy": "2024-05-05T13:04:18.867395Z",
     "iopub.status.idle": "2024-05-05T13:04:18.877797Z",
     "shell.execute_reply": "2024-05-05T13:04:18.876989Z",
     "shell.execute_reply.started": "2024-05-05T13:04:18.867644Z"
    }
   },
   "outputs": [],
   "source": [
    "# Example new text data\n",
    "new_text = \"This hate this movie.\"\n",
    "\n",
    "\n",
    "cleaned_text = preprocess_text(new_text)\n",
    "\n",
    "# Vectorize the cleaned text using the same vectorizer used during training\n",
    "vectorized_text = cv.transform([cleaned_text])\n",
    "\n",
    "# Make predictions using the trained model\n",
    "prediction = lr_tfidf.predict(vectorized_text)\n",
    "# Interpret the prediction\n",
    "if prediction == 1:\n",
    "    print(\"The sentiment of the new text is Positive.\")\n",
    "else:\n",
    "    print(\"The sentiment of the new text is Negative.\")"
   ]
  },
  {
   "cell_type": "code",
   "execution_count": null,
   "metadata": {
    "execution": {
     "iopub.execute_input": "2024-05-05T13:04:18.879093Z",
     "iopub.status.busy": "2024-05-05T13:04:18.878800Z",
     "iopub.status.idle": "2024-05-05T13:04:18.889795Z",
     "shell.execute_reply": "2024-05-05T13:04:18.889071Z",
     "shell.execute_reply.started": "2024-05-05T13:04:18.879071Z"
    }
   },
   "outputs": [],
   "source": [
    "X=imdb_data['review']\n",
    "y=imdb_data['sentiment']"
   ]
  },
  {
   "cell_type": "code",
   "execution_count": null,
   "metadata": {
    "execution": {
     "iopub.execute_input": "2024-05-05T13:04:18.891071Z",
     "iopub.status.busy": "2024-05-05T13:04:18.890791Z",
     "iopub.status.idle": "2024-05-05T13:04:19.466343Z",
     "shell.execute_reply": "2024-05-05T13:04:19.465369Z",
     "shell.execute_reply.started": "2024-05-05T13:04:18.891042Z"
    }
   },
   "outputs": [],
   "source": [
    "cv = CountVectorizer()"
   ]
  },
  {
   "cell_type": "code",
   "execution_count": null,
   "metadata": {
    "execution": {
     "iopub.execute_input": "2024-05-05T13:04:19.468561Z",
     "iopub.status.busy": "2024-05-05T13:04:19.467802Z",
     "iopub.status.idle": "2024-05-05T13:04:26.337952Z",
     "shell.execute_reply": "2024-05-05T13:04:26.337164Z",
     "shell.execute_reply.started": "2024-05-05T13:04:19.468527Z"
    }
   },
   "outputs": [],
   "source": [
    "X= cv.fit_transform(X)"
   ]
  },
  {
   "cell_type": "code",
   "execution_count": null,
   "metadata": {
    "execution": {
     "iopub.execute_input": "2024-05-05T13:04:26.339319Z",
     "iopub.status.busy": "2024-05-05T13:04:26.339035Z",
     "iopub.status.idle": "2024-05-05T13:04:26.367811Z",
     "shell.execute_reply": "2024-05-05T13:04:26.367067Z",
     "shell.execute_reply.started": "2024-05-05T13:04:26.339296Z"
    }
   },
   "outputs": [],
   "source": [
    "from sklearn.model_selection import train_test_split\n",
    "X_train,X_test,y_train,y_test = train_test_split(X,y,test_size=0.3,random_state=101)"
   ]
  },
  {
   "cell_type": "code",
   "execution_count": null,
   "metadata": {
    "execution": {
     "iopub.execute_input": "2024-05-05T13:04:26.369775Z",
     "iopub.status.busy": "2024-05-05T13:04:26.369148Z",
     "iopub.status.idle": "2024-05-05T13:04:26.374380Z",
     "shell.execute_reply": "2024-05-05T13:04:26.373298Z",
     "shell.execute_reply.started": "2024-05-05T13:04:26.369739Z"
    }
   },
   "outputs": [],
   "source": [
    "from sklearn.naive_bayes import MultinomialNB\n",
    "nb = MultinomialNB()"
   ]
  },
  {
   "cell_type": "code",
   "execution_count": null,
   "metadata": {
    "execution": {
     "iopub.execute_input": "2024-05-05T13:05:21.438567Z",
     "iopub.status.busy": "2024-05-05T13:05:21.438215Z",
     "iopub.status.idle": "2024-05-05T13:05:21.478110Z",
     "shell.execute_reply": "2024-05-05T13:05:21.477198Z",
     "shell.execute_reply.started": "2024-05-05T13:05:21.438544Z"
    }
   },
   "outputs": [],
   "source": [
    "nb.fit(X_train,y_train)"
   ]
  },
  {
   "cell_type": "code",
   "execution_count": null,
   "metadata": {
    "execution": {
     "iopub.execute_input": "2024-05-05T13:05:25.098443Z",
     "iopub.status.busy": "2024-05-05T13:05:25.098068Z",
     "iopub.status.idle": "2024-05-05T13:05:25.115978Z",
     "shell.execute_reply": "2024-05-05T13:05:25.115237Z",
     "shell.execute_reply.started": "2024-05-05T13:05:25.098416Z"
    }
   },
   "outputs": [],
   "source": [
    "pred = nb.predict(X_test)"
   ]
  },
  {
   "cell_type": "code",
   "execution_count": null,
   "metadata": {
    "execution": {
     "iopub.execute_input": "2024-05-05T13:05:28.519350Z",
     "iopub.status.busy": "2024-05-05T13:05:28.519005Z",
     "iopub.status.idle": "2024-05-05T13:05:28.550201Z",
     "shell.execute_reply": "2024-05-05T13:05:28.549255Z",
     "shell.execute_reply.started": "2024-05-05T13:05:28.519328Z"
    }
   },
   "outputs": [],
   "source": [
    "print(classification_report(y_test,pred))"
   ]
  },
  {
   "cell_type": "code",
   "execution_count": null,
   "metadata": {
    "execution": {
     "iopub.execute_input": "2024-05-05T13:05:34.717818Z",
     "iopub.status.busy": "2024-05-05T13:05:34.717459Z",
     "iopub.status.idle": "2024-05-05T13:05:34.726165Z",
     "shell.execute_reply": "2024-05-05T13:05:34.725405Z",
     "shell.execute_reply.started": "2024-05-05T13:05:34.717792Z"
    }
   },
   "outputs": [],
   "source": [
    "pred"
   ]
  },
  {
   "cell_type": "code",
   "execution_count": null,
   "metadata": {
    "execution": {
     "iopub.execute_input": "2024-05-05T13:05:39.760345Z",
     "iopub.status.busy": "2024-05-05T13:05:39.759593Z",
     "iopub.status.idle": "2024-05-05T13:05:39.768966Z",
     "shell.execute_reply": "2024-05-05T13:05:39.768074Z",
     "shell.execute_reply.started": "2024-05-05T13:05:39.760312Z"
    }
   },
   "outputs": [],
   "source": [
    "# Example new text data\n",
    "new_text = \"This is the best movie ever!\"\n",
    "\n",
    "# Preprocess the new text\n",
    "cleaned_text = preprocess_text(new_text)\n",
    "\n",
    "# Vectorize the cleaned text using the same vectorizer used during training\n",
    "vectorized_text = cv.transform([cleaned_text])\n",
    "\n",
    "# Make predictions using the trained model\n",
    "prediction = nb.predict(vectorized_text)\n",
    "# Interpret the prediction\n",
    "if prediction == 1:\n",
    "    print(\"The sentiment of the new text is Positive.\")\n",
    "else:\n",
    "    print(\"The sentiment of the new text is Negative.\")"
   ]
  },
  {
   "cell_type": "code",
   "execution_count": null,
   "metadata": {
    "execution": {
     "iopub.execute_input": "2024-05-05T13:05:43.987864Z",
     "iopub.status.busy": "2024-05-05T13:05:43.986978Z",
     "iopub.status.idle": "2024-05-05T13:05:43.994458Z",
     "shell.execute_reply": "2024-05-05T13:05:43.993547Z",
     "shell.execute_reply.started": "2024-05-05T13:05:43.987832Z"
    }
   },
   "outputs": [],
   "source": [
    "from sklearn.feature_extraction.text import  TfidfTransformer\n",
    "from sklearn.pipeline import Pipeline"
   ]
  },
  {
   "cell_type": "code",
   "execution_count": null,
   "metadata": {
    "execution": {
     "iopub.execute_input": "2024-05-05T13:05:48.226741Z",
     "iopub.status.busy": "2024-05-05T13:05:48.226087Z",
     "iopub.status.idle": "2024-05-05T13:05:48.231360Z",
     "shell.execute_reply": "2024-05-05T13:05:48.230241Z",
     "shell.execute_reply.started": "2024-05-05T13:05:48.226709Z"
    }
   },
   "outputs": [],
   "source": [
    "pipeline = Pipeline([\n",
    "    ('bow', CountVectorizer()),  # strings to token integer counts\n",
    "    ('tfidf', TfidfTransformer()),  # integer counts to weighted TF-IDF scores\n",
    "    ('classifier', MultinomialNB()),  # train on TF-IDF vectors w/ Naive Bayes classifier\n",
    "])"
   ]
  },
  {
   "cell_type": "code",
   "execution_count": null,
   "metadata": {
    "execution": {
     "iopub.execute_input": "2024-05-05T13:05:51.802801Z",
     "iopub.status.busy": "2024-05-05T13:05:51.801825Z",
     "iopub.status.idle": "2024-05-05T13:05:51.813913Z",
     "shell.execute_reply": "2024-05-05T13:05:51.813065Z",
     "shell.execute_reply.started": "2024-05-05T13:05:51.802766Z"
    }
   },
   "outputs": [],
   "source": [
    "X=imdb_data['review']\n",
    "y=imdb_data['sentiment']\n",
    "X_train, X_test, y_train, y_test = train_test_split(X, y,test_size=0.3,random_state=101)"
   ]
  },
  {
   "cell_type": "code",
   "execution_count": null,
   "metadata": {
    "execution": {
     "iopub.execute_input": "2024-05-05T13:05:55.459098Z",
     "iopub.status.busy": "2024-05-05T13:05:55.458670Z",
     "iopub.status.idle": "2024-05-05T13:06:00.822441Z",
     "shell.execute_reply": "2024-05-05T13:06:00.821510Z",
     "shell.execute_reply.started": "2024-05-05T13:05:55.459066Z"
    }
   },
   "outputs": [],
   "source": [
    "pipeline.fit(X_train,y_train)"
   ]
  },
  {
   "cell_type": "code",
   "execution_count": null,
   "metadata": {
    "execution": {
     "iopub.execute_input": "2024-05-05T13:06:00.824993Z",
     "iopub.status.busy": "2024-05-05T13:06:00.824298Z",
     "iopub.status.idle": "2024-05-05T13:06:02.904556Z",
     "shell.execute_reply": "2024-05-05T13:06:02.903748Z",
     "shell.execute_reply.started": "2024-05-05T13:06:00.824957Z"
    }
   },
   "outputs": [],
   "source": [
    "y_pred = pipeline.predict(X_test)"
   ]
  },
  {
   "cell_type": "code",
   "execution_count": null,
   "metadata": {
    "execution": {
     "iopub.execute_input": "2024-05-05T13:06:03.100248Z",
     "iopub.status.busy": "2024-05-05T13:06:03.099524Z",
     "iopub.status.idle": "2024-05-05T13:06:03.131131Z",
     "shell.execute_reply": "2024-05-05T13:06:03.130211Z",
     "shell.execute_reply.started": "2024-05-05T13:06:03.100218Z"
    }
   },
   "outputs": [],
   "source": [
    "print(classification_report(y_test,y_pred))"
   ]
  },
  {
   "cell_type": "code",
   "execution_count": null,
   "metadata": {
    "execution": {
     "iopub.execute_input": "2024-05-05T13:06:38.278918Z",
     "iopub.status.busy": "2024-05-05T13:06:38.278072Z",
     "iopub.status.idle": "2024-05-05T13:06:38.288913Z",
     "shell.execute_reply": "2024-05-05T13:06:38.287997Z",
     "shell.execute_reply.started": "2024-05-05T13:06:38.278891Z"
    }
   },
   "outputs": [],
   "source": [
    "# Use the pipeline model to predict the sentiment of the preprocessed text\n",
    "new_text = \"AWFUL!\"\n",
    "cleaned_text = preprocess_text(new_text)\n",
    "prediction = pipeline.predict([cleaned_text])\n",
    "\n",
    "# Interpret the prediction\n",
    "if prediction == 1:\n",
    "    print(\"The sentiment of the new text is Positive.\")\n",
    "else:\n",
    "    print(\"The sentiment of the new text is Negative.\")\n"
   ]
  },
  {
   "cell_type": "code",
   "execution_count": null,
   "metadata": {},
   "outputs": [],
   "source": [
    "@app.route('/')\n",
    "def home():\n",
    "    return render_template('index.html')\n",
    "\n",
    "@app.route('/predict', methods=['POST'])\n",
    "def predict():\n",
    "    if request.method == 'POST':\n",
    "        new_text = request.form['text']\n",
    "        cleaned_text = preprocess_text(new_text)\n",
    "        prediction = pipeline.predict([cleaned_text])\n",
    "        if prediction == 1:\n",
    "            sentiment = \"Positive\"\n",
    "        else:\n",
    "            sentiment = \"Negative\"\n",
    "        return render_template('result.html', sentiment=sentiment)\n",
    "\n",
    "if __name__ == '__main__':\n",
    "    app.run(debug=True)"
   ]
  },
  {
   "cell_type": "markdown",
   "metadata": {},
   "source": [
    "In conclusion ,the Pipeline model performs better than the Logistic Regression and Multinomial Naive Bayes models."
   ]
  },
  {
   "cell_type": "markdown",
   "metadata": {},
   "source": []
  }
 ],
 "metadata": {
  "kaggle": {
   "accelerator": "gpu",
   "dataSources": [
    {
     "datasetId": 134715,
     "sourceId": 320111,
     "sourceType": "datasetVersion"
    }
   ],
   "dockerImageVersionId": 30699,
   "isGpuEnabled": true,
   "isInternetEnabled": true,
   "language": "python",
   "sourceType": "notebook"
  },
  "kernelspec": {
   "display_name": "Python 3 (ipykernel)",
   "language": "python",
   "name": "python3"
  },
  "language_info": {
   "codemirror_mode": {
    "name": "ipython",
    "version": 3
   },
   "file_extension": ".py",
   "mimetype": "text/x-python",
   "name": "python",
   "nbconvert_exporter": "python",
   "pygments_lexer": "ipython3",
   "version": "3.9.12"
  }
 },
 "nbformat": 4,
 "nbformat_minor": 4
}
